COMPREHENSIVE DATA EXPLORATION WITH PYTHON

#invite people for the Kaggle party
import pandas as pd
import matplotlib.pyplot as plt
import seaborn as sns
import numpy as np
from scipy.stats import norm #  متعملناش معاها كتير بس عاملينها عشان نعمل نورم
from sklearn.preprocessing import StandardScaler#برضوا متعملناش معاها كتير بس عاملينها عشان نعمل standar Scalaler
from scipy import stats
import warnings # عشان لو فيه اين تحذير ولا حاجه ميطلعوش
warnings.filterwarnings('ignore')
%matplotlib inline # السطر دا لازم اكتبه ف اي نوت بوك ل جوبيتر عشان اي جراف يظهر معايا وميكتبش اسم الاوبجيكت 
